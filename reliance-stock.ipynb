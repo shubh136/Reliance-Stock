{
 "cells": [
  {
   "cell_type": "code",
   "execution_count": 1,
   "metadata": {
    "_cell_guid": "b1076dfc-b9ad-4769-8c92-a6c4dae69d19",
    "_uuid": "8f2839f25d086af736a60e9eeb907d3b93b6e0e5",
    "execution": {
     "iopub.execute_input": "2021-03-15T09:53:30.481680Z",
     "iopub.status.busy": "2021-03-15T09:53:30.481010Z",
     "iopub.status.idle": "2021-03-15T09:53:31.573989Z",
     "shell.execute_reply": "2021-03-15T09:53:31.572867Z"
    },
    "papermill": {
     "duration": 1.11757,
     "end_time": "2021-03-15T09:53:31.574318",
     "exception": false,
     "start_time": "2021-03-15T09:53:30.456748",
     "status": "completed"
    },
    "tags": []
   },
   "outputs": [
    {
     "name": "stdout",
     "output_type": "stream",
     "text": [
      "/kaggle/input/nifty50-stock-market-data/HDFCBANK.csv\n",
      "/kaggle/input/nifty50-stock-market-data/GRASIM.csv\n",
      "/kaggle/input/nifty50-stock-market-data/WIPRO.csv\n",
      "/kaggle/input/nifty50-stock-market-data/stock_metadata.csv\n",
      "/kaggle/input/nifty50-stock-market-data/BPCL.csv\n",
      "/kaggle/input/nifty50-stock-market-data/INFY.csv\n",
      "/kaggle/input/nifty50-stock-market-data/LT.csv\n",
      "/kaggle/input/nifty50-stock-market-data/RELIANCE.csv\n",
      "/kaggle/input/nifty50-stock-market-data/BRITANNIA.csv\n",
      "/kaggle/input/nifty50-stock-market-data/INFRATEL.csv\n",
      "/kaggle/input/nifty50-stock-market-data/HEROMOTOCO.csv\n",
      "/kaggle/input/nifty50-stock-market-data/HINDUNILVR.csv\n",
      "/kaggle/input/nifty50-stock-market-data/TATAMOTORS.csv\n",
      "/kaggle/input/nifty50-stock-market-data/MM.csv\n",
      "/kaggle/input/nifty50-stock-market-data/HDFC.csv\n",
      "/kaggle/input/nifty50-stock-market-data/JSWSTEEL.csv\n",
      "/kaggle/input/nifty50-stock-market-data/TITAN.csv\n",
      "/kaggle/input/nifty50-stock-market-data/HINDALCO.csv\n",
      "/kaggle/input/nifty50-stock-market-data/AXISBANK.csv\n",
      "/kaggle/input/nifty50-stock-market-data/HCLTECH.csv\n",
      "/kaggle/input/nifty50-stock-market-data/ADANIPORTS.csv\n",
      "/kaggle/input/nifty50-stock-market-data/GAIL.csv\n",
      "/kaggle/input/nifty50-stock-market-data/NIFTY50_all.csv\n",
      "/kaggle/input/nifty50-stock-market-data/BAJAJFINSV.csv\n",
      "/kaggle/input/nifty50-stock-market-data/BAJFINANCE.csv\n",
      "/kaggle/input/nifty50-stock-market-data/ICICIBANK.csv\n",
      "/kaggle/input/nifty50-stock-market-data/ZEEL.csv\n",
      "/kaggle/input/nifty50-stock-market-data/ASIANPAINT.csv\n",
      "/kaggle/input/nifty50-stock-market-data/IOC.csv\n",
      "/kaggle/input/nifty50-stock-market-data/TATASTEEL.csv\n",
      "/kaggle/input/nifty50-stock-market-data/COALINDIA.csv\n",
      "/kaggle/input/nifty50-stock-market-data/NESTLEIND.csv\n",
      "/kaggle/input/nifty50-stock-market-data/DRREDDY.csv\n",
      "/kaggle/input/nifty50-stock-market-data/ONGC.csv\n",
      "/kaggle/input/nifty50-stock-market-data/EICHERMOT.csv\n",
      "/kaggle/input/nifty50-stock-market-data/UPL.csv\n",
      "/kaggle/input/nifty50-stock-market-data/SUNPHARMA.csv\n",
      "/kaggle/input/nifty50-stock-market-data/ULTRACEMCO.csv\n",
      "/kaggle/input/nifty50-stock-market-data/CIPLA.csv\n",
      "/kaggle/input/nifty50-stock-market-data/SHREECEM.csv\n",
      "/kaggle/input/nifty50-stock-market-data/VEDL.csv\n",
      "/kaggle/input/nifty50-stock-market-data/TCS.csv\n",
      "/kaggle/input/nifty50-stock-market-data/NTPC.csv\n",
      "/kaggle/input/nifty50-stock-market-data/MARUTI.csv\n",
      "/kaggle/input/nifty50-stock-market-data/KOTAKBANK.csv\n",
      "/kaggle/input/nifty50-stock-market-data/ITC.csv\n",
      "/kaggle/input/nifty50-stock-market-data/BAJAJ-AUTO.csv\n",
      "/kaggle/input/nifty50-stock-market-data/SBIN.csv\n",
      "/kaggle/input/nifty50-stock-market-data/INDUSINDBK.csv\n",
      "/kaggle/input/nifty50-stock-market-data/BHARTIARTL.csv\n",
      "/kaggle/input/nifty50-stock-market-data/TECHM.csv\n",
      "/kaggle/input/nifty50-stock-market-data/POWERGRID.csv\n"
     ]
    }
   ],
   "source": [
    "# This Python 3 environment comes with many helpful analytics libraries installed\n",
    "# It is defined by the kaggle/python Docker image: https://github.com/kaggle/docker-python\n",
    "# For example, here's several helpful packages to load\n",
    "\n",
    "import numpy as np # linear algebra\n",
    "import pandas as pd # data processing, CSV file I/O (e.g. pd.read_csv)\n",
    "import seaborn as sns\n",
    "# Input data files are available in the read-only \"../input/\" directory\n",
    "# For example, running this (by clicking run or pressing Shift+Enter) will list all files under the input directory\n",
    "\n",
    "import os\n",
    "for dirname, _, filenames in os.walk('/kaggle/input'):\n",
    "    for filename in filenames:\n",
    "        print(os.path.join(dirname, filename))\n",
    "\n",
    "# You can write up to 20GB to the current directory (/kaggle/working/) that gets preserved as output when you create a version using \"Save & Run All\" \n",
    "# You can also write temporary files to /kaggle/temp/, but they won't be saved outside of the current session"
   ]
  },
  {
   "cell_type": "code",
   "execution_count": 2,
   "metadata": {
    "execution": {
     "iopub.execute_input": "2021-03-15T09:53:31.615252Z",
     "iopub.status.busy": "2021-03-15T09:53:31.614579Z",
     "iopub.status.idle": "2021-03-15T09:53:31.665659Z",
     "shell.execute_reply": "2021-03-15T09:53:31.665046Z"
    },
    "papermill": {
     "duration": 0.073062,
     "end_time": "2021-03-15T09:53:31.665800",
     "exception": false,
     "start_time": "2021-03-15T09:53:31.592738",
     "status": "completed"
    },
    "tags": []
   },
   "outputs": [],
   "source": [
    "df = pd.read_csv('/kaggle/input/nifty50-stock-market-data/RELIANCE.csv')"
   ]
  },
  {
   "cell_type": "code",
   "execution_count": 3,
   "metadata": {
    "execution": {
     "iopub.execute_input": "2021-03-15T09:53:31.719937Z",
     "iopub.status.busy": "2021-03-15T09:53:31.718191Z",
     "iopub.status.idle": "2021-03-15T09:53:31.753147Z",
     "shell.execute_reply": "2021-03-15T09:53:31.752600Z"
    },
    "papermill": {
     "duration": 0.068692,
     "end_time": "2021-03-15T09:53:31.753312",
     "exception": false,
     "start_time": "2021-03-15T09:53:31.684620",
     "status": "completed"
    },
    "tags": []
   },
   "outputs": [
    {
     "data": {
      "text/html": [
       "<div>\n",
       "<style scoped>\n",
       "    .dataframe tbody tr th:only-of-type {\n",
       "        vertical-align: middle;\n",
       "    }\n",
       "\n",
       "    .dataframe tbody tr th {\n",
       "        vertical-align: top;\n",
       "    }\n",
       "\n",
       "    .dataframe thead th {\n",
       "        text-align: right;\n",
       "    }\n",
       "</style>\n",
       "<table border=\"1\" class=\"dataframe\">\n",
       "  <thead>\n",
       "    <tr style=\"text-align: right;\">\n",
       "      <th></th>\n",
       "      <th>Date</th>\n",
       "      <th>Symbol</th>\n",
       "      <th>Series</th>\n",
       "      <th>Prev Close</th>\n",
       "      <th>Open</th>\n",
       "      <th>High</th>\n",
       "      <th>Low</th>\n",
       "      <th>Last</th>\n",
       "      <th>Close</th>\n",
       "      <th>VWAP</th>\n",
       "      <th>Volume</th>\n",
       "      <th>Turnover</th>\n",
       "      <th>Trades</th>\n",
       "      <th>Deliverable Volume</th>\n",
       "      <th>%Deliverble</th>\n",
       "    </tr>\n",
       "  </thead>\n",
       "  <tbody>\n",
       "    <tr>\n",
       "      <th>0</th>\n",
       "      <td>2000-01-03</td>\n",
       "      <td>RELIANCE</td>\n",
       "      <td>EQ</td>\n",
       "      <td>233.05</td>\n",
       "      <td>237.50</td>\n",
       "      <td>251.70</td>\n",
       "      <td>237.50</td>\n",
       "      <td>251.70</td>\n",
       "      <td>251.70</td>\n",
       "      <td>249.37</td>\n",
       "      <td>4456424</td>\n",
       "      <td>1.111319e+14</td>\n",
       "      <td>NaN</td>\n",
       "      <td>NaN</td>\n",
       "      <td>NaN</td>\n",
       "    </tr>\n",
       "    <tr>\n",
       "      <th>1</th>\n",
       "      <td>2000-01-04</td>\n",
       "      <td>RELIANCE</td>\n",
       "      <td>EQ</td>\n",
       "      <td>251.70</td>\n",
       "      <td>258.40</td>\n",
       "      <td>271.85</td>\n",
       "      <td>251.30</td>\n",
       "      <td>271.85</td>\n",
       "      <td>271.85</td>\n",
       "      <td>263.52</td>\n",
       "      <td>9487878</td>\n",
       "      <td>2.500222e+14</td>\n",
       "      <td>NaN</td>\n",
       "      <td>NaN</td>\n",
       "      <td>NaN</td>\n",
       "    </tr>\n",
       "    <tr>\n",
       "      <th>2</th>\n",
       "      <td>2000-01-05</td>\n",
       "      <td>RELIANCE</td>\n",
       "      <td>EQ</td>\n",
       "      <td>271.85</td>\n",
       "      <td>256.65</td>\n",
       "      <td>287.90</td>\n",
       "      <td>256.65</td>\n",
       "      <td>286.75</td>\n",
       "      <td>282.50</td>\n",
       "      <td>274.79</td>\n",
       "      <td>26833684</td>\n",
       "      <td>7.373697e+14</td>\n",
       "      <td>NaN</td>\n",
       "      <td>NaN</td>\n",
       "      <td>NaN</td>\n",
       "    </tr>\n",
       "    <tr>\n",
       "      <th>3</th>\n",
       "      <td>2000-01-06</td>\n",
       "      <td>RELIANCE</td>\n",
       "      <td>EQ</td>\n",
       "      <td>282.50</td>\n",
       "      <td>289.00</td>\n",
       "      <td>300.70</td>\n",
       "      <td>289.00</td>\n",
       "      <td>293.50</td>\n",
       "      <td>294.35</td>\n",
       "      <td>295.45</td>\n",
       "      <td>15682286</td>\n",
       "      <td>4.633254e+14</td>\n",
       "      <td>NaN</td>\n",
       "      <td>NaN</td>\n",
       "      <td>NaN</td>\n",
       "    </tr>\n",
       "    <tr>\n",
       "      <th>4</th>\n",
       "      <td>2000-01-07</td>\n",
       "      <td>RELIANCE</td>\n",
       "      <td>EQ</td>\n",
       "      <td>294.35</td>\n",
       "      <td>295.00</td>\n",
       "      <td>317.90</td>\n",
       "      <td>293.00</td>\n",
       "      <td>314.50</td>\n",
       "      <td>314.55</td>\n",
       "      <td>308.91</td>\n",
       "      <td>19870977</td>\n",
       "      <td>6.138388e+14</td>\n",
       "      <td>NaN</td>\n",
       "      <td>NaN</td>\n",
       "      <td>NaN</td>\n",
       "    </tr>\n",
       "  </tbody>\n",
       "</table>\n",
       "</div>"
      ],
      "text/plain": [
       "         Date    Symbol Series  Prev Close    Open    High     Low    Last  \\\n",
       "0  2000-01-03  RELIANCE     EQ      233.05  237.50  251.70  237.50  251.70   \n",
       "1  2000-01-04  RELIANCE     EQ      251.70  258.40  271.85  251.30  271.85   \n",
       "2  2000-01-05  RELIANCE     EQ      271.85  256.65  287.90  256.65  286.75   \n",
       "3  2000-01-06  RELIANCE     EQ      282.50  289.00  300.70  289.00  293.50   \n",
       "4  2000-01-07  RELIANCE     EQ      294.35  295.00  317.90  293.00  314.50   \n",
       "\n",
       "    Close    VWAP    Volume      Turnover  Trades  Deliverable Volume  \\\n",
       "0  251.70  249.37   4456424  1.111319e+14     NaN                 NaN   \n",
       "1  271.85  263.52   9487878  2.500222e+14     NaN                 NaN   \n",
       "2  282.50  274.79  26833684  7.373697e+14     NaN                 NaN   \n",
       "3  294.35  295.45  15682286  4.633254e+14     NaN                 NaN   \n",
       "4  314.55  308.91  19870977  6.138388e+14     NaN                 NaN   \n",
       "\n",
       "   %Deliverble  \n",
       "0          NaN  \n",
       "1          NaN  \n",
       "2          NaN  \n",
       "3          NaN  \n",
       "4          NaN  "
      ]
     },
     "execution_count": 3,
     "metadata": {},
     "output_type": "execute_result"
    }
   ],
   "source": [
    "df.head()"
   ]
  },
  {
   "cell_type": "code",
   "execution_count": 4,
   "metadata": {
    "execution": {
     "iopub.execute_input": "2021-03-15T09:53:31.816293Z",
     "iopub.status.busy": "2021-03-15T09:53:31.813082Z",
     "iopub.status.idle": "2021-03-15T09:53:31.862362Z",
     "shell.execute_reply": "2021-03-15T09:53:31.861832Z"
    },
    "papermill": {
     "duration": 0.084878,
     "end_time": "2021-03-15T09:53:31.862501",
     "exception": false,
     "start_time": "2021-03-15T09:53:31.777623",
     "status": "completed"
    },
    "tags": []
   },
   "outputs": [
    {
     "data": {
      "text/html": [
       "<div>\n",
       "<style scoped>\n",
       "    .dataframe tbody tr th:only-of-type {\n",
       "        vertical-align: middle;\n",
       "    }\n",
       "\n",
       "    .dataframe tbody tr th {\n",
       "        vertical-align: top;\n",
       "    }\n",
       "\n",
       "    .dataframe thead th {\n",
       "        text-align: right;\n",
       "    }\n",
       "</style>\n",
       "<table border=\"1\" class=\"dataframe\">\n",
       "  <thead>\n",
       "    <tr style=\"text-align: right;\">\n",
       "      <th></th>\n",
       "      <th>Prev Close</th>\n",
       "      <th>Open</th>\n",
       "      <th>High</th>\n",
       "      <th>Low</th>\n",
       "      <th>Last</th>\n",
       "      <th>Close</th>\n",
       "      <th>VWAP</th>\n",
       "      <th>Volume</th>\n",
       "      <th>Turnover</th>\n",
       "      <th>Trades</th>\n",
       "      <th>Deliverable Volume</th>\n",
       "      <th>%Deliverble</th>\n",
       "    </tr>\n",
       "  </thead>\n",
       "  <tbody>\n",
       "    <tr>\n",
       "      <th>count</th>\n",
       "      <td>5204.000000</td>\n",
       "      <td>5204.000000</td>\n",
       "      <td>5204.000000</td>\n",
       "      <td>5204.000000</td>\n",
       "      <td>5204.000000</td>\n",
       "      <td>5204.000000</td>\n",
       "      <td>5204.000000</td>\n",
       "      <td>5.204000e+03</td>\n",
       "      <td>5.204000e+03</td>\n",
       "      <td>2.354000e+03</td>\n",
       "      <td>4.690000e+03</td>\n",
       "      <td>4690.000000</td>\n",
       "    </tr>\n",
       "    <tr>\n",
       "      <th>mean</th>\n",
       "      <td>991.573146</td>\n",
       "      <td>993.152488</td>\n",
       "      <td>1007.210386</td>\n",
       "      <td>977.650846</td>\n",
       "      <td>991.744716</td>\n",
       "      <td>991.899193</td>\n",
       "      <td>992.505048</td>\n",
       "      <td>5.477416e+06</td>\n",
       "      <td>5.766197e+14</td>\n",
       "      <td>1.383930e+05</td>\n",
       "      <td>2.240034e+06</td>\n",
       "      <td>0.436304</td>\n",
       "    </tr>\n",
       "    <tr>\n",
       "      <th>std</th>\n",
       "      <td>559.193166</td>\n",
       "      <td>560.779485</td>\n",
       "      <td>570.274651</td>\n",
       "      <td>548.810030</td>\n",
       "      <td>559.142833</td>\n",
       "      <td>559.245468</td>\n",
       "      <td>559.404639</td>\n",
       "      <td>4.939589e+06</td>\n",
       "      <td>8.067358e+14</td>\n",
       "      <td>1.261135e+05</td>\n",
       "      <td>1.861371e+06</td>\n",
       "      <td>0.145547</td>\n",
       "    </tr>\n",
       "    <tr>\n",
       "      <th>min</th>\n",
       "      <td>203.200000</td>\n",
       "      <td>205.500000</td>\n",
       "      <td>219.500000</td>\n",
       "      <td>197.150000</td>\n",
       "      <td>203.300000</td>\n",
       "      <td>203.200000</td>\n",
       "      <td>212.290000</td>\n",
       "      <td>5.282000e+04</td>\n",
       "      <td>4.295543e+12</td>\n",
       "      <td>2.991000e+03</td>\n",
       "      <td>2.909700e+04</td>\n",
       "      <td>0.076300</td>\n",
       "    </tr>\n",
       "    <tr>\n",
       "      <th>25%</th>\n",
       "      <td>564.125000</td>\n",
       "      <td>565.987500</td>\n",
       "      <td>574.575000</td>\n",
       "      <td>555.350000</td>\n",
       "      <td>563.825000</td>\n",
       "      <td>564.600000</td>\n",
       "      <td>563.172500</td>\n",
       "      <td>2.818465e+06</td>\n",
       "      <td>2.172170e+14</td>\n",
       "      <td>7.120650e+04</td>\n",
       "      <td>1.178495e+06</td>\n",
       "      <td>0.322925</td>\n",
       "    </tr>\n",
       "    <tr>\n",
       "      <th>50%</th>\n",
       "      <td>929.400000</td>\n",
       "      <td>930.975000</td>\n",
       "      <td>941.675000</td>\n",
       "      <td>920.000000</td>\n",
       "      <td>929.550000</td>\n",
       "      <td>929.600000</td>\n",
       "      <td>930.265000</td>\n",
       "      <td>4.153304e+06</td>\n",
       "      <td>3.597578e+14</td>\n",
       "      <td>9.841550e+04</td>\n",
       "      <td>1.784206e+06</td>\n",
       "      <td>0.452250</td>\n",
       "    </tr>\n",
       "    <tr>\n",
       "      <th>75%</th>\n",
       "      <td>1210.675000</td>\n",
       "      <td>1211.000000</td>\n",
       "      <td>1231.662500</td>\n",
       "      <td>1193.075000</td>\n",
       "      <td>1213.550000</td>\n",
       "      <td>1210.750000</td>\n",
       "      <td>1211.957500</td>\n",
       "      <td>6.424490e+06</td>\n",
       "      <td>6.388226e+14</td>\n",
       "      <td>1.559138e+05</td>\n",
       "      <td>2.685708e+06</td>\n",
       "      <td>0.546275</td>\n",
       "    </tr>\n",
       "    <tr>\n",
       "      <th>max</th>\n",
       "      <td>3220.850000</td>\n",
       "      <td>3298.000000</td>\n",
       "      <td>3298.000000</td>\n",
       "      <td>3141.300000</td>\n",
       "      <td>3223.000000</td>\n",
       "      <td>3220.850000</td>\n",
       "      <td>3197.750000</td>\n",
       "      <td>6.523089e+07</td>\n",
       "      <td>1.473434e+16</td>\n",
       "      <td>1.428490e+06</td>\n",
       "      <td>3.495888e+07</td>\n",
       "      <td>0.978300</td>\n",
       "    </tr>\n",
       "  </tbody>\n",
       "</table>\n",
       "</div>"
      ],
      "text/plain": [
       "        Prev Close         Open         High          Low         Last  \\\n",
       "count  5204.000000  5204.000000  5204.000000  5204.000000  5204.000000   \n",
       "mean    991.573146   993.152488  1007.210386   977.650846   991.744716   \n",
       "std     559.193166   560.779485   570.274651   548.810030   559.142833   \n",
       "min     203.200000   205.500000   219.500000   197.150000   203.300000   \n",
       "25%     564.125000   565.987500   574.575000   555.350000   563.825000   \n",
       "50%     929.400000   930.975000   941.675000   920.000000   929.550000   \n",
       "75%    1210.675000  1211.000000  1231.662500  1193.075000  1213.550000   \n",
       "max    3220.850000  3298.000000  3298.000000  3141.300000  3223.000000   \n",
       "\n",
       "             Close         VWAP        Volume      Turnover        Trades  \\\n",
       "count  5204.000000  5204.000000  5.204000e+03  5.204000e+03  2.354000e+03   \n",
       "mean    991.899193   992.505048  5.477416e+06  5.766197e+14  1.383930e+05   \n",
       "std     559.245468   559.404639  4.939589e+06  8.067358e+14  1.261135e+05   \n",
       "min     203.200000   212.290000  5.282000e+04  4.295543e+12  2.991000e+03   \n",
       "25%     564.600000   563.172500  2.818465e+06  2.172170e+14  7.120650e+04   \n",
       "50%     929.600000   930.265000  4.153304e+06  3.597578e+14  9.841550e+04   \n",
       "75%    1210.750000  1211.957500  6.424490e+06  6.388226e+14  1.559138e+05   \n",
       "max    3220.850000  3197.750000  6.523089e+07  1.473434e+16  1.428490e+06   \n",
       "\n",
       "       Deliverable Volume  %Deliverble  \n",
       "count        4.690000e+03  4690.000000  \n",
       "mean         2.240034e+06     0.436304  \n",
       "std          1.861371e+06     0.145547  \n",
       "min          2.909700e+04     0.076300  \n",
       "25%          1.178495e+06     0.322925  \n",
       "50%          1.784206e+06     0.452250  \n",
       "75%          2.685708e+06     0.546275  \n",
       "max          3.495888e+07     0.978300  "
      ]
     },
     "execution_count": 4,
     "metadata": {},
     "output_type": "execute_result"
    }
   ],
   "source": [
    "df.describe()"
   ]
  },
  {
   "cell_type": "code",
   "execution_count": 5,
   "metadata": {
    "execution": {
     "iopub.execute_input": "2021-03-15T09:53:31.910108Z",
     "iopub.status.busy": "2021-03-15T09:53:31.909018Z",
     "iopub.status.idle": "2021-03-15T09:53:31.913262Z",
     "shell.execute_reply": "2021-03-15T09:53:31.912379Z"
    },
    "papermill": {
     "duration": 0.032195,
     "end_time": "2021-03-15T09:53:31.913473",
     "exception": false,
     "start_time": "2021-03-15T09:53:31.881278",
     "status": "completed"
    },
    "tags": []
   },
   "outputs": [],
   "source": [
    "def missing_values_table(df):\n",
    "        # Total missing values\n",
    "        mis_val = df.isnull().sum()\n",
    "        \n",
    "        # Percentage of missing values\n",
    "        mis_val_percent = 100 * df.isnull().sum() / len(df)\n",
    "        \n",
    "        # Make a table with the results\n",
    "        mis_val_table = pd.concat([mis_val, mis_val_percent], axis=1)\n",
    "        \n",
    "        # Rename the columns\n",
    "        mis_val_table_ren_columns = mis_val_table.rename(\n",
    "        columns = {0 : 'Missing Values', 1 : '% of Total Values'})\n",
    "        \n",
    "        # Sort the table by percentage of missing descending\n",
    "        mis_val_table_ren_columns = mis_val_table_ren_columns[\n",
    "            mis_val_table_ren_columns.iloc[:,1] != 0].sort_values(\n",
    "        '% of Total Values', ascending=False).round(1)\n",
    "        \n",
    "        # Print some summary information\n",
    "        print (\"Your selected dataframe has \" + str(df.shape[1]) + \" columns.\\n\"      \n",
    "            \"There are \" + str(mis_val_table_ren_columns.shape[0]) +\n",
    "              \" columns that have missing values.\")\n",
    "        \n",
    "        # Return the dataframe with missing information\n",
    "        return mis_val_table_ren_columns"
   ]
  },
  {
   "cell_type": "code",
   "execution_count": 6,
   "metadata": {
    "execution": {
     "iopub.execute_input": "2021-03-15T09:53:31.980622Z",
     "iopub.status.busy": "2021-03-15T09:53:31.979878Z",
     "iopub.status.idle": "2021-03-15T09:53:32.023975Z",
     "shell.execute_reply": "2021-03-15T09:53:32.023132Z"
    },
    "papermill": {
     "duration": 0.080759,
     "end_time": "2021-03-15T09:53:32.024157",
     "exception": false,
     "start_time": "2021-03-15T09:53:31.943398",
     "status": "completed"
    },
    "tags": []
   },
   "outputs": [
    {
     "name": "stdout",
     "output_type": "stream",
     "text": [
      "Your selected dataframe has 15 columns.\n",
      "There are 3 columns that have missing values.\n"
     ]
    },
    {
     "data": {
      "text/html": [
       "<div>\n",
       "<style scoped>\n",
       "    .dataframe tbody tr th:only-of-type {\n",
       "        vertical-align: middle;\n",
       "    }\n",
       "\n",
       "    .dataframe tbody tr th {\n",
       "        vertical-align: top;\n",
       "    }\n",
       "\n",
       "    .dataframe thead th {\n",
       "        text-align: right;\n",
       "    }\n",
       "</style>\n",
       "<table border=\"1\" class=\"dataframe\">\n",
       "  <thead>\n",
       "    <tr style=\"text-align: right;\">\n",
       "      <th></th>\n",
       "      <th>Missing Values</th>\n",
       "      <th>% of Total Values</th>\n",
       "    </tr>\n",
       "  </thead>\n",
       "  <tbody>\n",
       "    <tr>\n",
       "      <th>Trades</th>\n",
       "      <td>2850</td>\n",
       "      <td>54.8</td>\n",
       "    </tr>\n",
       "    <tr>\n",
       "      <th>Deliverable Volume</th>\n",
       "      <td>514</td>\n",
       "      <td>9.9</td>\n",
       "    </tr>\n",
       "    <tr>\n",
       "      <th>%Deliverble</th>\n",
       "      <td>514</td>\n",
       "      <td>9.9</td>\n",
       "    </tr>\n",
       "  </tbody>\n",
       "</table>\n",
       "</div>"
      ],
      "text/plain": [
       "                    Missing Values  % of Total Values\n",
       "Trades                        2850               54.8\n",
       "Deliverable Volume             514                9.9\n",
       "%Deliverble                    514                9.9"
      ]
     },
     "execution_count": 6,
     "metadata": {},
     "output_type": "execute_result"
    }
   ],
   "source": [
    "missing_table=missing_values_table(df)\n",
    "missing_table"
   ]
  },
  {
   "cell_type": "code",
   "execution_count": 7,
   "metadata": {
    "execution": {
     "iopub.execute_input": "2021-03-15T09:53:32.088715Z",
     "iopub.status.busy": "2021-03-15T09:53:32.087644Z",
     "iopub.status.idle": "2021-03-15T09:53:32.096891Z",
     "shell.execute_reply": "2021-03-15T09:53:32.096065Z"
    },
    "papermill": {
     "duration": 0.042965,
     "end_time": "2021-03-15T09:53:32.097067",
     "exception": false,
     "start_time": "2021-03-15T09:53:32.054102",
     "status": "completed"
    },
    "tags": []
   },
   "outputs": [
    {
     "data": {
      "text/plain": [
       "0      NaN\n",
       "1      NaN\n",
       "2      NaN\n",
       "3      NaN\n",
       "4      NaN\n",
       "        ..\n",
       "2845   NaN\n",
       "2846   NaN\n",
       "2847   NaN\n",
       "2848   NaN\n",
       "2849   NaN\n",
       "Name: Trades, Length: 2850, dtype: float64"
      ]
     },
     "execution_count": 7,
     "metadata": {},
     "output_type": "execute_result"
    }
   ],
   "source": [
    "df.Trades[:2850]"
   ]
  },
  {
   "cell_type": "code",
   "execution_count": 8,
   "metadata": {
    "execution": {
     "iopub.execute_input": "2021-03-15T09:53:32.167501Z",
     "iopub.status.busy": "2021-03-15T09:53:32.166451Z",
     "iopub.status.idle": "2021-03-15T09:53:32.170385Z",
     "shell.execute_reply": "2021-03-15T09:53:32.169701Z"
    },
    "papermill": {
     "duration": 0.04281,
     "end_time": "2021-03-15T09:53:32.170555",
     "exception": false,
     "start_time": "2021-03-15T09:53:32.127745",
     "status": "completed"
    },
    "tags": []
   },
   "outputs": [],
   "source": [
    "# removing missing columns\n",
    "\n",
    "df.drop(['Trades','Deliverable Volume','%Deliverble'],axis=1,inplace=True)\n"
   ]
  },
  {
   "cell_type": "code",
   "execution_count": 9,
   "metadata": {
    "execution": {
     "iopub.execute_input": "2021-03-15T09:53:32.237954Z",
     "iopub.status.busy": "2021-03-15T09:53:32.237158Z",
     "iopub.status.idle": "2021-03-15T09:53:32.475562Z",
     "shell.execute_reply": "2021-03-15T09:53:32.476265Z"
    },
    "papermill": {
     "duration": 0.274816,
     "end_time": "2021-03-15T09:53:32.476504",
     "exception": false,
     "start_time": "2021-03-15T09:53:32.201688",
     "status": "completed"
    },
    "tags": []
   },
   "outputs": [
    {
     "data": {
      "text/plain": [
       "<AxesSubplot:>"
      ]
     },
     "execution_count": 9,
     "metadata": {},
     "output_type": "execute_result"
    },
    {
     "data": {
      "image/png": "[encoded data removed]",
      "text/plain": [
       "<Figure size 1008x504 with 1 Axes>"
      ]
     },
     "metadata": {
      "needs_background": "light"
     },
     "output_type": "display_data"
    }
   ],
   "source": [
    "df.VWAP.plot(figsize=(14, 7))"
   ]
  },
  {
   "cell_type": "code",
   "execution_count": 10,
   "metadata": {
    "execution": {
     "iopub.execute_input": "2021-03-15T09:53:32.641501Z",
     "iopub.status.busy": "2021-03-15T09:53:32.621449Z",
     "iopub.status.idle": "2021-03-15T09:53:32.834681Z",
     "shell.execute_reply": "2021-03-15T09:53:32.834008Z"
    },
    "papermill": {
     "duration": 0.32378,
     "end_time": "2021-03-15T09:53:32.834844",
     "exception": false,
     "start_time": "2021-03-15T09:53:32.511064",
     "status": "completed"
    },
    "tags": []
   },
   "outputs": [
    {
     "data": {
      "text/plain": [
       "<AxesSubplot:xlabel='VWAP', ylabel='Density'>"
      ]
     },
     "execution_count": 10,
     "metadata": {},
     "output_type": "execute_result"
    },
    {
     "data": {
      "image/png": "[encoded data removed]",
      "text/plain": [
       "<Figure size 432x288 with 1 Axes>"
      ]
     },
     "metadata": {
      "needs_background": "light"
     },
     "output_type": "display_data"
    }
   ],
   "source": [
    "sns.kdeplot(df['VWAP'],shade=True)"
   ]
  },
  {
   "cell_type": "code",
   "execution_count": 11,
   "metadata": {
    "execution": {
     "iopub.execute_input": "2021-03-15T09:53:32.918043Z",
     "iopub.status.busy": "2021-03-15T09:53:32.894301Z",
     "iopub.status.idle": "2021-03-15T09:53:33.662301Z",
     "shell.execute_reply": "2021-03-15T09:53:33.661541Z"
    },
    "papermill": {
     "duration": 0.80379,
     "end_time": "2021-03-15T09:53:33.662447",
     "exception": false,
     "start_time": "2021-03-15T09:53:32.858657",
     "status": "completed"
    },
    "tags": []
   },
   "outputs": [
    {
     "data": {
      "image/png": "[encoded data removed]",
      "text/plain": [
       "<Figure size 792x648 with 4 Axes>"
      ]
     },
     "metadata": {
      "needs_background": "light"
     },
     "output_type": "display_data"
    }
   ],
   "source": [
    "cols_plot = ['Open', 'Close', 'High','Low']\n",
    "axes = df[cols_plot].plot(figsize=(11, 9), subplots=True)\n",
    "for ax in axes:\n",
    "    ax.set_ylabel('Daily trade')"
   ]
  },
  {
   "cell_type": "code",
   "execution_count": 12,
   "metadata": {
    "execution": {
     "iopub.execute_input": "2021-03-15T09:53:33.720485Z",
     "iopub.status.busy": "2021-03-15T09:53:33.719772Z",
     "iopub.status.idle": "2021-03-15T09:53:33.775758Z",
     "shell.execute_reply": "2021-03-15T09:53:33.775063Z"
    },
    "papermill": {
     "duration": 0.08709,
     "end_time": "2021-03-15T09:53:33.775899",
     "exception": false,
     "start_time": "2021-03-15T09:53:33.688809",
     "status": "completed"
    },
    "tags": []
   },
   "outputs": [
    {
     "ename": "NameError",
     "evalue": "name 'scipy' is not defined",
     "output_type": "error",
     "traceback": [
      "\u001b[0;31m---------------------------------------------------------------------------\u001b[0m",
      "\u001b[0;31mNameError\u001b[0m                                 Traceback (most recent call last)",
      "\u001b[0;32m<ipython-input-12-a14357441f45>\u001b[0m in \u001b[0;36m<module>\u001b[0;34m\u001b[0m\n\u001b[0;32m----> 1\u001b[0;31m \u001b[0mscipy\u001b[0m\u001b[0;34m.\u001b[0m\u001b[0mstats\u001b[0m\u001b[0;34m.\u001b[0m\u001b[0mprobplot\u001b[0m\u001b[0;34m(\u001b[0m\u001b[0mdf\u001b[0m\u001b[0;34m.\u001b[0m\u001b[0mVWAP\u001b[0m\u001b[0;34m,\u001b[0m\u001b[0mplot\u001b[0m\u001b[0;34m=\u001b[0m\u001b[0mpylab\u001b[0m\u001b[0;34m)\u001b[0m\u001b[0;34m\u001b[0m\u001b[0;34m\u001b[0m\u001b[0m\n\u001b[0m\u001b[1;32m      2\u001b[0m \u001b[0mpylab\u001b[0m\u001b[0;34m.\u001b[0m\u001b[0mshow\u001b[0m\u001b[0;34m(\u001b[0m\u001b[0;34m)\u001b[0m\u001b[0;34m\u001b[0m\u001b[0;34m\u001b[0m\u001b[0m\n",
      "\u001b[0;31mNameError\u001b[0m: name 'scipy' is not defined"
     ]
    }
   ],
   "source": [
    "scipy.stats.probplot(df.VWAP,plot=pylab)\n",
    "pylab.show()"
   ]
  },
  {
   "cell_type": "code",
   "execution_count": 13,
   "metadata": {
    "execution": {
     "iopub.execute_input": "2021-03-15T09:53:33.834503Z",
     "iopub.status.busy": "2021-03-15T09:53:33.833566Z",
     "iopub.status.idle": "2021-03-15T09:53:33.968627Z",
     "shell.execute_reply": "2021-03-15T09:53:33.967921Z"
    },
    "papermill": {
     "duration": 0.165856,
     "end_time": "2021-03-15T09:53:33.968799",
     "exception": false,
     "start_time": "2021-03-15T09:53:33.802943",
     "status": "completed"
    },
    "tags": []
   },
   "outputs": [
    {
     "ename": "NameError",
     "evalue": "name 'plt' is not defined",
     "output_type": "error",
     "traceback": [
      "\u001b[0;31m---------------------------------------------------------------------------\u001b[0m",
      "\u001b[0;31mNameError\u001b[0m                                 Traceback (most recent call last)",
      "\u001b[0;32m<ipython-input-13-160cd5d36120>\u001b[0m in \u001b[0;36m<module>\u001b[0;34m\u001b[0m\n\u001b[1;32m      2\u001b[0m \u001b[0;32mfrom\u001b[0m \u001b[0mdateutil\u001b[0m\u001b[0;34m.\u001b[0m\u001b[0mparser\u001b[0m \u001b[0;32mimport\u001b[0m \u001b[0mparse\u001b[0m\u001b[0;34m\u001b[0m\u001b[0;34m\u001b[0m\u001b[0m\n\u001b[1;32m      3\u001b[0m \u001b[0;34m\u001b[0m\u001b[0m\n\u001b[0;32m----> 4\u001b[0;31m \u001b[0mplt\u001b[0m\u001b[0;34m.\u001b[0m\u001b[0mrcParams\u001b[0m\u001b[0;34m.\u001b[0m\u001b[0mupdate\u001b[0m\u001b[0;34m(\u001b[0m\u001b[0;34m{\u001b[0m\u001b[0;34m'figure.figsize'\u001b[0m\u001b[0;34m:\u001b[0m \u001b[0;34m(\u001b[0m\u001b[0;36m10\u001b[0m\u001b[0;34m,\u001b[0m\u001b[0;36m10\u001b[0m\u001b[0;34m)\u001b[0m\u001b[0;34m}\u001b[0m\u001b[0;34m)\u001b[0m\u001b[0;34m\u001b[0m\u001b[0;34m\u001b[0m\u001b[0m\n\u001b[0m\u001b[1;32m      5\u001b[0m \u001b[0my\u001b[0m \u001b[0;34m=\u001b[0m \u001b[0mdf\u001b[0m\u001b[0;34m[\u001b[0m\u001b[0;34m'VWAP'\u001b[0m\u001b[0;34m]\u001b[0m\u001b[0;34m.\u001b[0m\u001b[0mto_frame\u001b[0m\u001b[0;34m(\u001b[0m\u001b[0;34m)\u001b[0m\u001b[0;34m\u001b[0m\u001b[0;34m\u001b[0m\u001b[0m\n\u001b[1;32m      6\u001b[0m \u001b[0;34m\u001b[0m\u001b[0m\n",
      "\u001b[0;31mNameError\u001b[0m: name 'plt' is not defined"
     ]
    }
   ],
   "source": [
    "from statsmodels.tsa.seasonal import seasonal_decompose\n",
    "from dateutil.parser import parse\n",
    "\n",
    "plt.rcParams.update({'figure.figsize': (10,10)})\n",
    "y = df['VWAP'].to_frame()\n",
    "\n",
    "\n",
    "# Multiplicative Decomposition \n",
    "result_mul = seasonal_decompose(y, model='multiplicative',period = 52)\n",
    "\n",
    "# Additive Decomposition\n",
    "result_add = seasonal_decompose(y, model='additive',period = 52)\n",
    "\n",
    "# Plot\n",
    "plt.rcParams.update({'figure.figsize': (10,10)})\n",
    "result_mul.plot().suptitle('Multiplicative Decompose', fontsize=22)\n",
    "result_add.plot().suptitle('Additive Decompose', fontsize=22)\n",
    "plt.show()"
   ]
  },
  {
   "cell_type": "code",
   "execution_count": 14,
   "metadata": {
    "execution": {
     "iopub.execute_input": "2021-03-15T09:53:34.057757Z",
     "iopub.status.busy": "2021-03-15T09:53:34.056899Z",
     "iopub.status.idle": "2021-03-15T09:53:34.061170Z",
     "shell.execute_reply": "2021-03-15T09:53:34.060368Z"
    },
    "papermill": {
     "duration": 0.052335,
     "end_time": "2021-03-15T09:53:34.061361",
     "exception": false,
     "start_time": "2021-03-15T09:53:34.009026",
     "status": "completed"
    },
    "tags": []
   },
   "outputs": [],
   "source": [
    "df['vwap_diff']=df['VWAP']-df['VWAP'].shift(1)"
   ]
  },
  {
   "cell_type": "code",
   "execution_count": 15,
   "metadata": {
    "execution": {
     "iopub.execute_input": "2021-03-15T09:53:34.173810Z",
     "iopub.status.busy": "2021-03-15T09:53:34.150600Z",
     "iopub.status.idle": "2021-03-15T09:53:34.361584Z",
     "shell.execute_reply": "2021-03-15T09:53:34.360904Z"
    },
    "papermill": {
     "duration": 0.259692,
     "end_time": "2021-03-15T09:53:34.361737",
     "exception": false,
     "start_time": "2021-03-15T09:53:34.102045",
     "status": "completed"
    },
    "tags": []
   },
   "outputs": [
    {
     "data": {
      "text/plain": [
       "<AxesSubplot:>"
      ]
     },
     "execution_count": 15,
     "metadata": {},
     "output_type": "execute_result"
    },
    {
     "data": {
      "image/png": "[encoded data removed]",
      "text/plain": [
       "<Figure size 1008x504 with 1 Axes>"
      ]
     },
     "metadata": {
      "needs_background": "light"
     },
     "output_type": "display_data"
    }
   ],
   "source": [
    "df.VWAP.plot(figsize=(14, 7))"
   ]
  },
  {
   "cell_type": "code",
   "execution_count": 16,
   "metadata": {
    "execution": {
     "iopub.execute_input": "2021-03-15T09:53:34.454158Z",
     "iopub.status.busy": "2021-03-15T09:53:34.443736Z",
     "iopub.status.idle": "2021-03-15T09:53:34.643884Z",
     "shell.execute_reply": "2021-03-15T09:53:34.643372Z"
    },
    "papermill": {
     "duration": 0.251896,
     "end_time": "2021-03-15T09:53:34.644036",
     "exception": false,
     "start_time": "2021-03-15T09:53:34.392140",
     "status": "completed"
    },
    "tags": []
   },
   "outputs": [
    {
     "data": {
      "text/plain": [
       "<AxesSubplot:>"
      ]
     },
     "execution_count": 16,
     "metadata": {},
     "output_type": "execute_result"
    },
    {
     "data": {
      "image/png": "[encoded data removed]",
      "text/plain": [
       "<Figure size 1008x504 with 1 Axes>"
      ]
     },
     "metadata": {
      "needs_background": "light"
     },
     "output_type": "display_data"
    }
   ],
   "source": [
    "df.vwap_diff.plot(figsize=(14, 7))"
   ]
  },
  {
   "cell_type": "code",
   "execution_count": 17,
   "metadata": {
    "execution": {
     "iopub.execute_input": "2021-03-15T09:53:34.711846Z",
     "iopub.status.busy": "2021-03-15T09:53:34.710076Z",
     "iopub.status.idle": "2021-03-15T09:53:34.716411Z",
     "shell.execute_reply": "2021-03-15T09:53:34.717024Z"
    },
    "papermill": {
     "duration": 0.042832,
     "end_time": "2021-03-15T09:53:34.717199",
     "exception": false,
     "start_time": "2021-03-15T09:53:34.674367",
     "status": "completed"
    },
    "tags": []
   },
   "outputs": [],
   "source": [
    "df=df.reset_index()"
   ]
  },
  {
   "cell_type": "code",
   "execution_count": 18,
   "metadata": {
    "execution": {
     "iopub.execute_input": "2021-03-15T09:53:34.790763Z",
     "iopub.status.busy": "2021-03-15T09:53:34.787842Z",
     "iopub.status.idle": "2021-03-15T09:53:34.858552Z",
     "shell.execute_reply": "2021-03-15T09:53:34.857915Z"
    },
    "papermill": {
     "duration": 0.110709,
     "end_time": "2021-03-15T09:53:34.858691",
     "exception": false,
     "start_time": "2021-03-15T09:53:34.747982",
     "status": "completed"
    },
    "tags": []
   },
   "outputs": [],
   "source": [
    "lag_features = [\"High\", \"Low\", \"Volume\", \"Turnover\",\"Close\"]\n",
    "window1 = 3\n",
    "window2 = 7\n",
    "window3 = 30\n",
    "\n",
    "df_rolled_3d = df[lag_features].rolling(window=window1, min_periods=0)\n",
    "df_rolled_7d = df[lag_features].rolling(window=window2, min_periods=0)\n",
    "df_rolled_30d = df[lag_features].rolling(window=window3, min_periods=0)\n",
    "\n",
    "df_mean_3d = df_rolled_3d.mean().shift(1).reset_index().astype(np.float32)\n",
    "df_mean_7d = df_rolled_7d.mean().shift(1).reset_index().astype(np.float32)\n",
    "df_mean_30d = df_rolled_30d.mean().shift(1).reset_index().astype(np.float32)\n",
    "\n",
    "df_std_3d = df_rolled_3d.std().shift(1).reset_index().astype(np.float32)\n",
    "df_std_7d = df_rolled_7d.std().shift(1).reset_index().astype(np.float32)\n",
    "df_std_30d = df_rolled_30d.std().shift(1).reset_index().astype(np.float32)\n",
    "\n",
    "for feature in lag_features:\n",
    "    df[f\"{feature}_mean_lag{window1}\"] = df_mean_3d[feature]\n",
    "    df[f\"{feature}_mean_lag{window2}\"] = df_mean_7d[feature]\n",
    "    df[f\"{feature}_mean_lag{window3}\"] = df_mean_30d[feature]\n",
    "    \n",
    "    df[f\"{feature}_std_lag{window1}\"] = df_std_3d[feature]\n",
    "    df[f\"{feature}_std_lag{window2}\"] = df_std_7d[feature]\n",
    "    df[f\"{feature}_std_lag{window3}\"] = df_std_30d[feature]\n",
    "\n",
    "df.fillna(df.mean(), inplace=True)\n",
    "\n",
    "df.set_index(\"Date\", drop=False, inplace=True)"
   ]
  },
  {
   "cell_type": "code",
   "execution_count": 19,
   "metadata": {
    "execution": {
     "iopub.execute_input": "2021-03-15T09:53:34.933570Z",
     "iopub.status.busy": "2021-03-15T09:53:34.931056Z",
     "iopub.status.idle": "2021-03-15T09:53:34.946870Z",
     "shell.execute_reply": "2021-03-15T09:53:34.946032Z"
    },
    "papermill": {
     "duration": 0.056668,
     "end_time": "2021-03-15T09:53:34.947037",
     "exception": false,
     "start_time": "2021-03-15T09:53:34.890369",
     "status": "completed"
    },
    "tags": []
   },
   "outputs": [
    {
     "name": "stderr",
     "output_type": "stream",
     "text": [
      "/opt/conda/lib/python3.7/site-packages/ipykernel_launcher.py:3: FutureWarning: Series.dt.weekofyear and Series.dt.week have been deprecated.  Please use Series.dt.isocalendar().week instead.\n",
      "  This is separate from the ipykernel package so we can avoid doing imports until\n"
     ]
    }
   ],
   "source": [
    "\n",
    "df.Date = pd.to_datetime(df.Date, format=\"%Y-%m-%d\")\n",
    "df[\"month\"] = df.Date.dt.month\n",
    "df[\"week\"] = df.Date.dt.week\n",
    "df[\"day\"] = df.Date.dt.day\n",
    "df[\"day_of_week\"] = df.Date.dt.dayofweek\n"
   ]
  },
  {
   "cell_type": "code",
   "execution_count": 20,
   "metadata": {
    "execution": {
     "iopub.execute_input": "2021-03-15T09:53:35.045985Z",
     "iopub.status.busy": "2021-03-15T09:53:35.045117Z",
     "iopub.status.idle": "2021-03-15T09:53:35.056063Z",
     "shell.execute_reply": "2021-03-15T09:53:35.056563Z"
    },
    "papermill": {
     "duration": 0.064502,
     "end_time": "2021-03-15T09:53:35.056827",
     "exception": false,
     "start_time": "2021-03-15T09:53:34.992325",
     "status": "completed"
    },
    "tags": []
   },
   "outputs": [],
   "source": [
    "\n",
    "df_train = df[df.Date < \"2019\"]\n",
    "df_valid = df[df.Date >= \"2019\"]\n",
    "\n",
    "exogenous_features = [\"High_mean_lag3\", \"High_std_lag3\", \"Low_mean_lag3\", \"Low_std_lag3\",\n",
    "                      \"Volume_mean_lag3\", \"Volume_std_lag3\", \"Turnover_mean_lag3\",\n",
    "                      \"Turnover_std_lag3\",\"High_mean_lag7\", \"High_std_lag7\", \"Low_mean_lag7\", \"Low_std_lag7\",\n",
    "                      \"Volume_mean_lag7\", \"Volume_std_lag7\", \"Turnover_mean_lag7\",\n",
    "                      \"Turnover_std_lag7\",\"High_mean_lag30\", \"High_std_lag30\", \"Low_mean_lag30\", \"Low_std_lag30\",\n",
    "                      \"Volume_mean_lag30\", \"Volume_std_lag30\", \"Turnover_mean_lag30\",\n",
    "                      \"Close_mean_lag3\", \"Close_mean_lag7\",\"Close_mean_lag30\",\"Close_std_lag3\",\"Close_std_lag7\",\"Close_std_lag30\",\n",
    "                      \"Turnover_std_lag30\",\"month\",\"week\",\"day\",\"day_of_week\"]\n"
   ]
  },
  {
   "cell_type": "code",
   "execution_count": 21,
   "metadata": {
    "execution": {
     "iopub.execute_input": "2021-03-15T09:53:35.126858Z",
     "iopub.status.busy": "2021-03-15T09:53:35.126199Z",
     "iopub.status.idle": "2021-03-15T09:54:05.345665Z",
     "shell.execute_reply": "2021-03-15T09:54:05.344925Z"
    },
    "papermill": {
     "duration": 30.257177,
     "end_time": "2021-03-15T09:54:05.345806",
     "exception": false,
     "start_time": "2021-03-15T09:53:35.088629",
     "status": "completed"
    },
    "tags": []
   },
   "outputs": [
    {
     "name": "stdout",
     "output_type": "stream",
     "text": [
      "Collecting pmdarima\r\n",
      "  Downloading pmdarima-1.8.0-cp37-cp37m-manylinux1_x86_64.whl (1.5 MB)\r\n",
      "\u001b[K     |████████████████████████████████| 1.5 MB 862 kB/s \r\n",
      "\u001b[?25hRequirement already satisfied: urllib3 in /opt/conda/lib/python3.7/site-packages (from pmdarima) (1.26.2)\r\n",
      "Requirement already satisfied: statsmodels!=0.12.0,>=0.11 in /opt/conda/lib/python3.7/site-packages (from pmdarima) (0.12.1)\r\n",
      "Requirement already satisfied: pandas>=0.19 in /opt/conda/lib/python3.7/site-packages (from pmdarima) (1.2.0)\r\n",
      "Requirement already satisfied: scipy>=1.3.2 in /opt/conda/lib/python3.7/site-packages (from pmdarima) (1.5.4)\r\n",
      "Requirement already satisfied: setuptools!=50.0.0,>=38.6.0 in /opt/conda/lib/python3.7/site-packages (from pmdarima) (49.6.0.post20201009)\r\n",
      "Collecting Cython<0.29.18,>=0.29\r\n",
      "  Downloading Cython-0.29.17-cp37-cp37m-manylinux1_x86_64.whl (2.1 MB)\r\n",
      "\u001b[K     |████████████████████████████████| 2.1 MB 4.4 MB/s \r\n",
      "\u001b[?25hRequirement already satisfied: joblib>=0.11 in /opt/conda/lib/python3.7/site-packages (from pmdarima) (1.0.0)\r\n",
      "Requirement already satisfied: numpy>=1.17.3 in /opt/conda/lib/python3.7/site-packages (from pmdarima) (1.19.5)\r\n",
      "Requirement already satisfied: scikit-learn>=0.22 in /opt/conda/lib/python3.7/site-packages (from pmdarima) (0.24.1)\r\n",
      "Requirement already satisfied: python-dateutil>=2.7.3 in /opt/conda/lib/python3.7/site-packages (from pandas>=0.19->pmdarima) (2.8.1)\r\n",
      "Requirement already satisfied: pytz>=2017.3 in /opt/conda/lib/python3.7/site-packages (from pandas>=0.19->pmdarima) (2020.5)\r\n",
      "Requirement already satisfied: six>=1.5 in /opt/conda/lib/python3.7/site-packages (from python-dateutil>=2.7.3->pandas>=0.19->pmdarima) (1.15.0)\r\n",
      "Requirement already satisfied: threadpoolctl>=2.0.0 in /opt/conda/lib/python3.7/site-packages (from scikit-learn>=0.22->pmdarima) (2.1.0)\r\n",
      "Requirement already satisfied: patsy>=0.5 in /opt/conda/lib/python3.7/site-packages (from statsmodels!=0.12.0,>=0.11->pmdarima) (0.5.1)\r\n",
      "Installing collected packages: Cython, pmdarima\r\n",
      "  Attempting uninstall: Cython\r\n",
      "    Found existing installation: Cython 0.29.21\r\n",
      "    Uninstalling Cython-0.29.21:\r\n",
      "      Successfully uninstalled Cython-0.29.21\r\n",
      "Successfully installed Cython-0.29.17 pmdarima-1.8.0\r\n"
     ]
    }
   ],
   "source": [
    "!pip install pmdarima"
   ]
  },
  {
   "cell_type": "code",
   "execution_count": 22,
   "metadata": {
    "execution": {
     "iopub.execute_input": "2021-03-15T09:54:05.478130Z",
     "iopub.status.busy": "2021-03-15T09:54:05.477527Z",
     "iopub.status.idle": "2021-03-15T09:58:05.459047Z",
     "shell.execute_reply": "2021-03-15T09:58:05.459739Z"
    },
    "papermill": {
     "duration": 240.048584,
     "end_time": "2021-03-15T09:58:05.459946",
     "exception": false,
     "start_time": "2021-03-15T09:54:05.411362",
     "status": "completed"
    },
    "tags": []
   },
   "outputs": [
    {
     "name": "stdout",
     "output_type": "stream",
     "text": [
      "Performing stepwise search to minimize aic\n",
      " ARIMA(2,0,2)(0,0,0)[0] intercept   : AIC=46290.675, Time=15.77 sec\n",
      " ARIMA(0,0,0)(0,0,0)[0] intercept   : AIC=46738.976, Time=10.46 sec\n",
      " ARIMA(1,0,0)(0,0,0)[0] intercept   : AIC=46321.481, Time=7.56 sec\n",
      " ARIMA(0,0,1)(0,0,0)[0] intercept   : AIC=46313.851, Time=8.31 sec\n",
      " ARIMA(0,0,0)(0,0,0)[0]             : AIC=82023.267, Time=7.05 sec\n",
      " ARIMA(1,0,2)(0,0,0)[0] intercept   : AIC=46298.553, Time=11.39 sec\n",
      " ARIMA(2,0,1)(0,0,0)[0] intercept   : AIC=46289.632, Time=8.77 sec\n",
      " ARIMA(1,0,1)(0,0,0)[0] intercept   : AIC=46301.280, Time=8.24 sec\n",
      " ARIMA(2,0,0)(0,0,0)[0] intercept   : AIC=46292.648, Time=8.25 sec\n"
     ]
    },
    {
     "name": "stderr",
     "output_type": "stream",
     "text": [
      "/opt/conda/lib/python3.7/site-packages/statsmodels/tsa/statespace/sarimax.py:1890: RuntimeWarning: divide by zero encountered in reciprocal\n",
      "  return np.roots(self.polynomial_reduced_ar)**-1\n",
      "/opt/conda/lib/python3.7/site-packages/statsmodels/tsa/statespace/sarimax.py:1897: RuntimeWarning: divide by zero encountered in reciprocal\n",
      "  return np.roots(self.polynomial_reduced_ma)**-1\n"
     ]
    },
    {
     "name": "stdout",
     "output_type": "stream",
     "text": [
      " ARIMA(3,0,1)(0,0,0)[0] intercept   : AIC=46874.844, Time=13.87 sec\n",
      " ARIMA(3,0,0)(0,0,0)[0] intercept   : AIC=46288.087, Time=9.45 sec\n",
      " ARIMA(4,0,0)(0,0,0)[0] intercept   : AIC=46289.953, Time=15.69 sec\n",
      " ARIMA(4,0,1)(0,0,0)[0] intercept   : AIC=46291.462, Time=16.45 sec\n",
      " ARIMA(3,0,0)(0,0,0)[0]             : AIC=46285.966, Time=14.19 sec\n",
      " ARIMA(2,0,0)(0,0,0)[0]             : AIC=46290.549, Time=15.70 sec\n",
      " ARIMA(4,0,0)(0,0,0)[0]             : AIC=46287.817, Time=15.11 sec\n",
      " ARIMA(3,0,1)(0,0,0)[0]             : AIC=46287.696, Time=14.98 sec\n",
      " ARIMA(2,0,1)(0,0,0)[0]             : AIC=46287.322, Time=8.26 sec\n",
      " ARIMA(4,0,1)(0,0,0)[0]             : AIC=46289.353, Time=15.54 sec\n",
      "\n",
      "Best model:  ARIMA(3,0,0)(0,0,0)[0]          \n",
      "Total fit time: 225.099 seconds\n"
     ]
    },
    {
     "name": "stderr",
     "output_type": "stream",
     "text": [
      "/opt/conda/lib/python3.7/site-packages/statsmodels/tsa/base/tsa_model.py:379: ValueWarning: No supported index is available. Prediction results will be given with an integer index beginning at `start`.\n",
      "  ValueWarning)\n",
      "/opt/conda/lib/python3.7/site-packages/ipykernel_launcher.py:6: SettingWithCopyWarning: \n",
      "A value is trying to be set on a copy of a slice from a DataFrame.\n",
      "Try using .loc[row_indexer,col_indexer] = value instead\n",
      "\n",
      "See the caveats in the documentation: https://pandas.pydata.org/pandas-docs/stable/user_guide/indexing.html#returning-a-view-versus-a-copy\n",
      "  \n"
     ]
    }
   ],
   "source": [
    "from pmdarima import auto_arima\n",
    "model = auto_arima(df_train.VWAP, exogenous=df_train[exogenous_features], trace=True, error_action=\"ignore\", suppress_warnings=True)\n",
    "model.fit(df_train.VWAP, exogenous=df_train[exogenous_features])\n",
    "\n",
    "forecast = model.predict(n_periods=len(df_valid), exogenous=df_valid[exogenous_features])\n",
    "df_valid[\"Forecast_ARIMAX\"] = forecast"
   ]
  },
  {
   "cell_type": "code",
   "execution_count": 23,
   "metadata": {
    "execution": {
     "iopub.execute_input": "2021-03-15T09:58:05.585501Z",
     "iopub.status.busy": "2021-03-15T09:58:05.584538Z",
     "iopub.status.idle": "2021-03-15T09:58:05.652057Z",
     "shell.execute_reply": "2021-03-15T09:58:05.650944Z"
    },
    "papermill": {
     "duration": 0.130905,
     "end_time": "2021-03-15T09:58:05.652266",
     "exception": false,
     "start_time": "2021-03-15T09:58:05.521361",
     "status": "completed"
    },
    "tags": []
   },
   "outputs": [
    {
     "data": {
      "text/html": [
       "<table class=\"simpletable\">\n",
       "<caption>SARIMAX Results</caption>\n",
       "<tr>\n",
       "  <th>Dep. Variable:</th>           <td>y</td>        <th>  No. Observations:  </th>    <td>4729</td>   \n",
       "</tr>\n",
       "<tr>\n",
       "  <th>Model:</th>           <td>SARIMAX(3, 0, 0)</td> <th>  Log Likelihood     </th> <td>-23104.983</td>\n",
       "</tr>\n",
       "<tr>\n",
       "  <th>Date:</th>            <td>Mon, 15 Mar 2021</td> <th>  AIC                </th>  <td>46285.966</td>\n",
       "</tr>\n",
       "<tr>\n",
       "  <th>Time:</th>                <td>09:58:05</td>     <th>  BIC                </th>  <td>46531.502</td>\n",
       "</tr>\n",
       "<tr>\n",
       "  <th>Sample:</th>                  <td>0</td>        <th>  HQIC               </th>  <td>46372.265</td>\n",
       "</tr>\n",
       "<tr>\n",
       "  <th></th>                      <td> - 4729</td>     <th>                     </th>      <td> </td>    \n",
       "</tr>\n",
       "<tr>\n",
       "  <th>Covariance Type:</th>        <td>opg</td>       <th>                     </th>      <td> </td>    \n",
       "</tr>\n",
       "</table>\n",
       "<table class=\"simpletable\">\n",
       "<tr>\n",
       "           <td></td>              <th>coef</th>     <th>std err</th>      <th>z</th>      <th>P>|z|</th>  <th>[0.025</th>    <th>0.975]</th>  \n",
       "</tr>\n",
       "<tr>\n",
       "  <th>High_mean_lag3</th>      <td>   -0.8909</td> <td> 1.87e-26</td> <td>-4.76e+25</td> <td> 0.000</td> <td>   -0.891</td> <td>   -0.891</td>\n",
       "</tr>\n",
       "<tr>\n",
       "  <th>High_std_lag3</th>       <td>    0.7719</td> <td> 2.33e-27</td> <td> 3.31e+26</td> <td> 0.000</td> <td>    0.772</td> <td>    0.772</td>\n",
       "</tr>\n",
       "<tr>\n",
       "  <th>Low_mean_lag3</th>       <td>   -1.2222</td> <td> 2.12e-26</td> <td>-5.76e+25</td> <td> 0.000</td> <td>   -1.222</td> <td>   -1.222</td>\n",
       "</tr>\n",
       "<tr>\n",
       "  <th>Low_std_lag3</th>        <td>   -1.1259</td> <td> 1.96e-27</td> <td>-5.74e+26</td> <td> 0.000</td> <td>   -1.126</td> <td>   -1.126</td>\n",
       "</tr>\n",
       "<tr>\n",
       "  <th>Volume_mean_lag3</th>    <td> 8.575e-07</td> <td> 4.63e-23</td> <td> 1.85e+16</td> <td> 0.000</td> <td> 8.57e-07</td> <td> 8.57e-07</td>\n",
       "</tr>\n",
       "<tr>\n",
       "  <th>Volume_std_lag3</th>     <td>-4.798e-07</td> <td> 5.11e-23</td> <td>-9.39e+15</td> <td> 0.000</td> <td> -4.8e-07</td> <td> -4.8e-07</td>\n",
       "</tr>\n",
       "<tr>\n",
       "  <th>Turnover_mean_lag3</th>  <td>-8.157e-15</td> <td> 3.78e-15</td> <td>   -2.158</td> <td> 0.031</td> <td>-1.56e-14</td> <td>-7.47e-16</td>\n",
       "</tr>\n",
       "<tr>\n",
       "  <th>Turnover_std_lag3</th>   <td> 8.889e-15</td> <td> 4.72e-15</td> <td>    1.883</td> <td> 0.060</td> <td>-3.62e-16</td> <td> 1.81e-14</td>\n",
       "</tr>\n",
       "<tr>\n",
       "  <th>High_mean_lag7</th>      <td>    0.4016</td> <td> 1.74e-26</td> <td> 2.31e+25</td> <td> 0.000</td> <td>    0.402</td> <td>    0.402</td>\n",
       "</tr>\n",
       "<tr>\n",
       "  <th>High_std_lag7</th>       <td>   -0.4405</td> <td>  1.2e-27</td> <td>-3.66e+26</td> <td> 0.000</td> <td>   -0.440</td> <td>   -0.440</td>\n",
       "</tr>\n",
       "<tr>\n",
       "  <th>Low_mean_lag7</th>       <td>   -0.5183</td> <td> 1.87e-26</td> <td>-2.76e+25</td> <td> 0.000</td> <td>   -0.518</td> <td>   -0.518</td>\n",
       "</tr>\n",
       "<tr>\n",
       "  <th>Low_std_lag7</th>        <td>   -0.1351</td> <td> 1.11e-27</td> <td>-1.22e+26</td> <td> 0.000</td> <td>   -0.135</td> <td>   -0.135</td>\n",
       "</tr>\n",
       "<tr>\n",
       "  <th>Volume_mean_lag7</th>    <td> 2.814e-06</td> <td> 4.45e-23</td> <td> 6.32e+16</td> <td> 0.000</td> <td> 2.81e-06</td> <td> 2.81e-06</td>\n",
       "</tr>\n",
       "<tr>\n",
       "  <th>Volume_std_lag7</th>     <td>-5.554e-07</td> <td> 3.69e-23</td> <td>-1.51e+16</td> <td> 0.000</td> <td>-5.55e-07</td> <td>-5.55e-07</td>\n",
       "</tr>\n",
       "<tr>\n",
       "  <th>Turnover_mean_lag7</th>  <td>-5.878e-14</td> <td> 5.88e-15</td> <td>   -9.991</td> <td> 0.000</td> <td>-7.03e-14</td> <td>-4.73e-14</td>\n",
       "</tr>\n",
       "<tr>\n",
       "  <th>Turnover_std_lag7</th>   <td> 1.931e-14</td> <td> 7.95e-15</td> <td>    2.428</td> <td> 0.015</td> <td> 3.72e-15</td> <td> 3.49e-14</td>\n",
       "</tr>\n",
       "<tr>\n",
       "  <th>High_mean_lag30</th>     <td>   -0.8432</td> <td> 2.06e-26</td> <td>-4.09e+25</td> <td> 0.000</td> <td>   -0.843</td> <td>   -0.843</td>\n",
       "</tr>\n",
       "<tr>\n",
       "  <th>High_std_lag30</th>      <td>   -0.3192</td> <td> 6.04e-28</td> <td>-5.29e+26</td> <td> 0.000</td> <td>   -0.319</td> <td>   -0.319</td>\n",
       "</tr>\n",
       "<tr>\n",
       "  <th>Low_mean_lag30</th>      <td>   -0.5379</td> <td> 2.04e-26</td> <td>-2.64e+25</td> <td> 0.000</td> <td>   -0.538</td> <td>   -0.538</td>\n",
       "</tr>\n",
       "<tr>\n",
       "  <th>Low_std_lag30</th>       <td>   -0.6825</td> <td> 8.07e-28</td> <td>-8.46e+26</td> <td> 0.000</td> <td>   -0.683</td> <td>   -0.683</td>\n",
       "</tr>\n",
       "<tr>\n",
       "  <th>Volume_mean_lag30</th>   <td>-1.845e-06</td> <td> 3.74e-23</td> <td>-4.93e+16</td> <td> 0.000</td> <td>-1.84e-06</td> <td>-1.84e-06</td>\n",
       "</tr>\n",
       "<tr>\n",
       "  <th>Volume_std_lag30</th>    <td> -1.51e-06</td> <td> 6.65e-23</td> <td>-2.27e+16</td> <td> 0.000</td> <td>-1.51e-06</td> <td>-1.51e-06</td>\n",
       "</tr>\n",
       "<tr>\n",
       "  <th>Turnover_mean_lag30</th> <td> 4.438e-14</td> <td> 4.25e-15</td> <td>   10.450</td> <td> 0.000</td> <td> 3.61e-14</td> <td> 5.27e-14</td>\n",
       "</tr>\n",
       "<tr>\n",
       "  <th>Close_mean_lag3</th>     <td>    2.9287</td> <td> 2.05e-26</td> <td> 1.43e+26</td> <td> 0.000</td> <td>    2.929</td> <td>    2.929</td>\n",
       "</tr>\n",
       "<tr>\n",
       "  <th>Close_mean_lag7</th>     <td>    0.3128</td> <td> 1.83e-26</td> <td> 1.71e+25</td> <td> 0.000</td> <td>    0.313</td> <td>    0.313</td>\n",
       "</tr>\n",
       "<tr>\n",
       "  <th>Close_mean_lag30</th>    <td>    1.3708</td> <td> 2.04e-26</td> <td> 6.73e+25</td> <td> 0.000</td> <td>    1.371</td> <td>    1.371</td>\n",
       "</tr>\n",
       "<tr>\n",
       "  <th>Close_std_lag3</th>      <td>   -0.3850</td> <td> 1.68e-27</td> <td>-2.29e+26</td> <td> 0.000</td> <td>   -0.385</td> <td>   -0.385</td>\n",
       "</tr>\n",
       "<tr>\n",
       "  <th>Close_std_lag7</th>      <td>    0.4713</td> <td> 9.53e-28</td> <td> 4.94e+26</td> <td> 0.000</td> <td>    0.471</td> <td>    0.471</td>\n",
       "</tr>\n",
       "<tr>\n",
       "  <th>Close_std_lag30</th>     <td>    1.0054</td> <td> 6.81e-28</td> <td> 1.48e+27</td> <td> 0.000</td> <td>    1.005</td> <td>    1.005</td>\n",
       "</tr>\n",
       "<tr>\n",
       "  <th>Turnover_std_lag30</th>  <td> 1.003e-14</td> <td> 8.11e-15</td> <td>    1.237</td> <td> 0.216</td> <td>-5.86e-15</td> <td> 2.59e-14</td>\n",
       "</tr>\n",
       "<tr>\n",
       "  <th>month</th>               <td>    0.0364</td> <td> 2.47e-28</td> <td> 1.48e+26</td> <td> 0.000</td> <td>    0.036</td> <td>    0.036</td>\n",
       "</tr>\n",
       "<tr>\n",
       "  <th>week</th>                <td>   -0.0245</td> <td>  1.1e-27</td> <td>-2.23e+25</td> <td> 0.000</td> <td>   -0.025</td> <td>   -0.025</td>\n",
       "</tr>\n",
       "<tr>\n",
       "  <th>day</th>                 <td>    0.0368</td> <td> 3.37e-28</td> <td> 1.09e+26</td> <td> 0.000</td> <td>    0.037</td> <td>    0.037</td>\n",
       "</tr>\n",
       "<tr>\n",
       "  <th>day_of_week</th>         <td>   -0.2416</td> <td> 7.41e-29</td> <td>-3.26e+27</td> <td> 0.000</td> <td>   -0.242</td> <td>   -0.242</td>\n",
       "</tr>\n",
       "<tr>\n",
       "  <th>ar.L1</th>               <td>    0.3423</td> <td> 6.67e-27</td> <td> 5.13e+25</td> <td> 0.000</td> <td>    0.342</td> <td>    0.342</td>\n",
       "</tr>\n",
       "<tr>\n",
       "  <th>ar.L2</th>               <td>   -0.0770</td> <td> 8.55e-28</td> <td>   -9e+25</td> <td> 0.000</td> <td>   -0.077</td> <td>   -0.077</td>\n",
       "</tr>\n",
       "<tr>\n",
       "  <th>ar.L3</th>               <td>   -0.0366</td> <td> 1.97e-27</td> <td>-1.85e+25</td> <td> 0.000</td> <td>   -0.037</td> <td>   -0.037</td>\n",
       "</tr>\n",
       "<tr>\n",
       "  <th>sigma2</th>              <td>  903.7699</td> <td> 2.26e-29</td> <td>    4e+31</td> <td> 0.000</td> <td>  903.770</td> <td>  903.770</td>\n",
       "</tr>\n",
       "</table>\n",
       "<table class=\"simpletable\">\n",
       "<tr>\n",
       "  <th>Ljung-Box (L1) (Q):</th>     <td>5.97</td> <th>  Jarque-Bera (JB):  </th> <td>41405557.10</td>\n",
       "</tr>\n",
       "<tr>\n",
       "  <th>Prob(Q):</th>                <td>0.01</td> <th>  Prob(JB):          </th>    <td>0.00</td>    \n",
       "</tr>\n",
       "<tr>\n",
       "  <th>Heteroskedasticity (H):</th> <td>1.40</td> <th>  Skew:              </th>   <td>-14.38</td>   \n",
       "</tr>\n",
       "<tr>\n",
       "  <th>Prob(H) (two-sided):</th>    <td>0.00</td> <th>  Kurtosis:          </th>   <td>460.50</td>   \n",
       "</tr>\n",
       "</table><br/><br/>Warnings:<br/>[1] Covariance matrix calculated using the outer product of gradients (complex-step).<br/>[2] Covariance matrix is singular or near-singular, with condition number 1.07e+45. Standard errors may be unstable."
      ],
      "text/plain": [
       "<class 'statsmodels.iolib.summary.Summary'>\n",
       "\"\"\"\n",
       "                               SARIMAX Results                                \n",
       "==============================================================================\n",
       "Dep. Variable:                      y   No. Observations:                 4729\n",
       "Model:               SARIMAX(3, 0, 0)   Log Likelihood              -23104.983\n",
       "Date:                Mon, 15 Mar 2021   AIC                          46285.966\n",
       "Time:                        09:58:05   BIC                          46531.502\n",
       "Sample:                             0   HQIC                         46372.265\n",
       "                               - 4729                                         \n",
       "Covariance Type:                  opg                                         \n",
       "=======================================================================================\n",
       "                          coef    std err          z      P>|z|      [0.025      0.975]\n",
       "---------------------------------------------------------------------------------------\n",
       "High_mean_lag3         -0.8909   1.87e-26  -4.76e+25      0.000      -0.891      -0.891\n",
       "High_std_lag3           0.7719   2.33e-27   3.31e+26      0.000       0.772       0.772\n",
       "Low_mean_lag3          -1.2222   2.12e-26  -5.76e+25      0.000      -1.222      -1.222\n",
       "Low_std_lag3           -1.1259   1.96e-27  -5.74e+26      0.000      -1.126      -1.126\n",
       "Volume_mean_lag3     8.575e-07   4.63e-23   1.85e+16      0.000    8.57e-07    8.57e-07\n",
       "Volume_std_lag3     -4.798e-07   5.11e-23  -9.39e+15      0.000    -4.8e-07    -4.8e-07\n",
       "Turnover_mean_lag3  -8.157e-15   3.78e-15     -2.158      0.031   -1.56e-14   -7.47e-16\n",
       "Turnover_std_lag3    8.889e-15   4.72e-15      1.883      0.060   -3.62e-16    1.81e-14\n",
       "High_mean_lag7          0.4016   1.74e-26   2.31e+25      0.000       0.402       0.402\n",
       "High_std_lag7          -0.4405    1.2e-27  -3.66e+26      0.000      -0.440      -0.440\n",
       "Low_mean_lag7          -0.5183   1.87e-26  -2.76e+25      0.000      -0.518      -0.518\n",
       "Low_std_lag7           -0.1351   1.11e-27  -1.22e+26      0.000      -0.135      -0.135\n",
       "Volume_mean_lag7     2.814e-06   4.45e-23   6.32e+16      0.000    2.81e-06    2.81e-06\n",
       "Volume_std_lag7     -5.554e-07   3.69e-23  -1.51e+16      0.000   -5.55e-07   -5.55e-07\n",
       "Turnover_mean_lag7  -5.878e-14   5.88e-15     -9.991      0.000   -7.03e-14   -4.73e-14\n",
       "Turnover_std_lag7    1.931e-14   7.95e-15      2.428      0.015    3.72e-15    3.49e-14\n",
       "High_mean_lag30        -0.8432   2.06e-26  -4.09e+25      0.000      -0.843      -0.843\n",
       "High_std_lag30         -0.3192   6.04e-28  -5.29e+26      0.000      -0.319      -0.319\n",
       "Low_mean_lag30         -0.5379   2.04e-26  -2.64e+25      0.000      -0.538      -0.538\n",
       "Low_std_lag30          -0.6825   8.07e-28  -8.46e+26      0.000      -0.683      -0.683\n",
       "Volume_mean_lag30   -1.845e-06   3.74e-23  -4.93e+16      0.000   -1.84e-06   -1.84e-06\n",
       "Volume_std_lag30     -1.51e-06   6.65e-23  -2.27e+16      0.000   -1.51e-06   -1.51e-06\n",
       "Turnover_mean_lag30  4.438e-14   4.25e-15     10.450      0.000    3.61e-14    5.27e-14\n",
       "Close_mean_lag3         2.9287   2.05e-26   1.43e+26      0.000       2.929       2.929\n",
       "Close_mean_lag7         0.3128   1.83e-26   1.71e+25      0.000       0.313       0.313\n",
       "Close_mean_lag30        1.3708   2.04e-26   6.73e+25      0.000       1.371       1.371\n",
       "Close_std_lag3         -0.3850   1.68e-27  -2.29e+26      0.000      -0.385      -0.385\n",
       "Close_std_lag7          0.4713   9.53e-28   4.94e+26      0.000       0.471       0.471\n",
       "Close_std_lag30         1.0054   6.81e-28   1.48e+27      0.000       1.005       1.005\n",
       "Turnover_std_lag30   1.003e-14   8.11e-15      1.237      0.216   -5.86e-15    2.59e-14\n",
       "month                   0.0364   2.47e-28   1.48e+26      0.000       0.036       0.036\n",
       "week                   -0.0245    1.1e-27  -2.23e+25      0.000      -0.025      -0.025\n",
       "day                     0.0368   3.37e-28   1.09e+26      0.000       0.037       0.037\n",
       "day_of_week            -0.2416   7.41e-29  -3.26e+27      0.000      -0.242      -0.242\n",
       "ar.L1                   0.3423   6.67e-27   5.13e+25      0.000       0.342       0.342\n",
       "ar.L2                  -0.0770   8.55e-28     -9e+25      0.000      -0.077      -0.077\n",
       "ar.L3                  -0.0366   1.97e-27  -1.85e+25      0.000      -0.037      -0.037\n",
       "sigma2                903.7699   2.26e-29      4e+31      0.000     903.770     903.770\n",
       "===================================================================================\n",
       "Ljung-Box (L1) (Q):                   5.97   Jarque-Bera (JB):          41405557.10\n",
       "Prob(Q):                              0.01   Prob(JB):                         0.00\n",
       "Heteroskedasticity (H):               1.40   Skew:                           -14.38\n",
       "Prob(H) (two-sided):                  0.00   Kurtosis:                       460.50\n",
       "===================================================================================\n",
       "\n",
       "Warnings:\n",
       "[1] Covariance matrix calculated using the outer product of gradients (complex-step).\n",
       "[2] Covariance matrix is singular or near-singular, with condition number 1.07e+45. Standard errors may be unstable.\n",
       "\"\"\""
      ]
     },
     "execution_count": 23,
     "metadata": {},
     "output_type": "execute_result"
    }
   ],
   "source": [
    "model.summary()"
   ]
  },
  {
   "cell_type": "code",
   "execution_count": 24,
   "metadata": {
    "execution": {
     "iopub.execute_input": "2021-03-15T09:58:05.816850Z",
     "iopub.status.busy": "2021-03-15T09:58:05.811663Z",
     "iopub.status.idle": "2021-03-15T09:58:06.026686Z",
     "shell.execute_reply": "2021-03-15T09:58:06.025958Z"
    },
    "papermill": {
     "duration": 0.297364,
     "end_time": "2021-03-15T09:58:06.026865",
     "exception": false,
     "start_time": "2021-03-15T09:58:05.729501",
     "status": "completed"
    },
    "tags": []
   },
   "outputs": [
    {
     "data": {
      "text/plain": [
       "<AxesSubplot:xlabel='Date'>"
      ]
     },
     "execution_count": 24,
     "metadata": {},
     "output_type": "execute_result"
    },
    {
     "data": {
      "image/png": "[encoded data removed]",
      "text/plain": [
       "<Figure size 1008x504 with 1 Axes>"
      ]
     },
     "metadata": {
      "needs_background": "light"
     },
     "output_type": "display_data"
    }
   ],
   "source": [
    "df_valid[[\"VWAP\", \"Forecast_ARIMAX\"]].plot(figsize=(14, 7))"
   ]
  },
  {
   "cell_type": "code",
   "execution_count": 25,
   "metadata": {
    "execution": {
     "iopub.execute_input": "2021-03-15T09:58:06.191863Z",
     "iopub.status.busy": "2021-03-15T09:58:06.191157Z",
     "iopub.status.idle": "2021-03-15T09:58:06.250835Z",
     "shell.execute_reply": "2021-03-15T09:58:06.250107Z"
    },
    "papermill": {
     "duration": 0.144706,
     "end_time": "2021-03-15T09:58:06.250974",
     "exception": false,
     "start_time": "2021-03-15T09:58:06.106268",
     "status": "completed"
    },
    "tags": []
   },
   "outputs": [
    {
     "ename": "NameError",
     "evalue": "name 'mean_squared_error' is not defined",
     "output_type": "error",
     "traceback": [
      "\u001b[0;31m---------------------------------------------------------------------------\u001b[0m",
      "\u001b[0;31mNameError\u001b[0m                                 Traceback (most recent call last)",
      "\u001b[0;32m<ipython-input-25-cd51156e5f73>\u001b[0m in \u001b[0;36m<module>\u001b[0;34m\u001b[0m\n\u001b[0;32m----> 1\u001b[0;31m \u001b[0mprint\u001b[0m\u001b[0;34m(\u001b[0m\u001b[0;34m\"RMSE of Auto ARIMAX:\"\u001b[0m\u001b[0;34m,\u001b[0m \u001b[0mnp\u001b[0m\u001b[0;34m.\u001b[0m\u001b[0msqrt\u001b[0m\u001b[0;34m(\u001b[0m\u001b[0mmean_squared_error\u001b[0m\u001b[0;34m(\u001b[0m\u001b[0mdf_valid\u001b[0m\u001b[0;34m.\u001b[0m\u001b[0mVWAP\u001b[0m\u001b[0;34m,\u001b[0m \u001b[0mdf_valid\u001b[0m\u001b[0;34m.\u001b[0m\u001b[0mForecast_ARIMAX\u001b[0m\u001b[0;34m)\u001b[0m\u001b[0;34m)\u001b[0m\u001b[0;34m)\u001b[0m\u001b[0;34m\u001b[0m\u001b[0;34m\u001b[0m\u001b[0m\n\u001b[0m\u001b[1;32m      2\u001b[0m \u001b[0mprint\u001b[0m\u001b[0;34m(\u001b[0m\u001b[0;34m\"\\nMAE of Auto ARIMAX:\"\u001b[0m\u001b[0;34m,\u001b[0m \u001b[0mmean_absolute_error\u001b[0m\u001b[0;34m(\u001b[0m\u001b[0mdf_valid\u001b[0m\u001b[0;34m.\u001b[0m\u001b[0mVWAP\u001b[0m\u001b[0;34m,\u001b[0m \u001b[0mdf_valid\u001b[0m\u001b[0;34m.\u001b[0m\u001b[0mForecast_ARIMAX\u001b[0m\u001b[0;34m)\u001b[0m\u001b[0;34m)\u001b[0m\u001b[0;34m\u001b[0m\u001b[0;34m\u001b[0m\u001b[0m\n",
      "\u001b[0;31mNameError\u001b[0m: name 'mean_squared_error' is not defined"
     ]
    }
   ],
   "source": [
    "print(\"RMSE of Auto ARIMAX:\", np.sqrt(mean_squared_error(df_valid.VWAP, df_valid.Forecast_ARIMAX)))\n",
    "print(\"\\nMAE of Auto ARIMAX:\", mean_absolute_error(df_valid.VWAP, df_valid.Forecast_ARIMAX))"
   ]
  },
  {
   "cell_type": "code",
   "execution_count": null,
   "metadata": {
    "papermill": {
     "duration": 0.056499,
     "end_time": "2021-03-15T09:58:06.362558",
     "exception": false,
     "start_time": "2021-03-15T09:58:06.306059",
     "status": "completed"
    },
    "tags": []
   },
   "outputs": [],
   "source": []
  }
 ],
 "metadata": {
  "kernelspec": {
   "display_name": "Python 3",
   "language": "python",
   "name": "python3"
  },
  "language_info": {
   "codemirror_mode": {
    "name": "ipython",
    "version": 3
   },
   "file_extension": ".py",
   "mimetype": "text/x-python",
   "name": "python",
   "nbconvert_exporter": "python",
   "pygments_lexer": "ipython3",
   "version": "3.7.9"
  },
  "papermill": {
   "default_parameters": {},
   "duration": 282.826779,
   "end_time": "2021-03-15T09:58:07.129801",
   "environment_variables": {},
   "exception": null,
   "input_path": "__notebook__.ipynb",
   "output_path": "__notebook__.ipynb",
   "parameters": {},
   "start_time": "2021-03-15T09:53:24.303022",
   "version": "2.2.2"
  }
 },
 "nbformat": 4,
 "nbformat_minor": 4
}
